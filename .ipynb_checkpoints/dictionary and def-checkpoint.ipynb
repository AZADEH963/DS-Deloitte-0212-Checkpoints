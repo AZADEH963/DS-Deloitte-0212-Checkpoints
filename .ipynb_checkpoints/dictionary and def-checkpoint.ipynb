{
 "cells": [
  {
   "cell_type": "code",
   "execution_count": 5,
   "metadata": {
    "scrolled": true
   },
   "outputs": [
    {
     "data": {
      "text/plain": [
       "dict_items([('who', 'Flatrion'), ('what', 'dara science'), ('when', 'now'), ('where', 'here'), ('why', '$'), ('how', 'python')])"
      ]
     },
     "execution_count": 5,
     "metadata": {},
     "output_type": "execute_result"
    }
   ],
   "source": [
    "my_dict = {\"who\":\"Flatrion\",\"what\":\"dara science\",\"when\":\"now\",\"where\":\"here\",\"why\":\"$\",\"how\":\"python\"}\n",
    "type(my_dict)\n",
    "my_dict.items()\n"
   ]
  },
  {
   "cell_type": "code",
   "execution_count": 9,
   "metadata": {
    "scrolled": true
   },
   "outputs": [
    {
     "data": {
      "text/plain": [
       "{'who': 'Flatrion!',\n",
       " 'what': 'dara science!',\n",
       " 'when': 'now!',\n",
       " 'where': 'here!',\n",
       " 'why': '$!'}"
      ]
     },
     "execution_count": 9,
     "metadata": {},
     "output_type": "execute_result"
    }
   ],
   "source": [
    "{k: v + \"!\" for k, v in my_dict.items() if k.startswith (\"w\") }\n"
   ]
  },
  {
   "cell_type": "code",
   "execution_count": 15,
   "metadata": {},
   "outputs": [
    {
     "data": {
      "text/plain": [
       "{0: 1, 4: 9, 16: 25}"
      ]
     },
     "execution_count": 15,
     "metadata": {},
     "output_type": "execute_result"
    }
   ],
   "source": [
    "{k**2: v**2 for k, v in [(0,1),(2,3),(4,5)]}"
   ]
  },
  {
   "cell_type": "code",
   "execution_count": 16,
   "metadata": {},
   "outputs": [
    {
     "data": {
      "text/plain": [
       "{0: 'apple', 1: 'orange', 2: 'banana', 3: 'lime', 4: 'blueberry'}"
      ]
     },
     "execution_count": 16,
     "metadata": {},
     "output_type": "execute_result"
    }
   ],
   "source": [
    "#zip handy way of pairing up two or more iterables\n",
    "dict(zip(range(5),['apple',\"orange\",\"banana\",\"lime\",\"blueberry\"]))"
   ]
  },
  {
   "cell_type": "code",
   "execution_count": 17,
   "metadata": {
    "scrolled": true
   },
   "outputs": [
    {
     "data": {
      "text/plain": [
       "((1, 'a', 'b', 'c', 'd', 'e'),\n",
       " (2, 'a', 'b', 'c', 'd', 'e'),\n",
       " (3, 'a', 'b', 'c', 'd', 'e'),\n",
       " (4, 'a', 'b', 'c', 'd', 'e'))"
      ]
     },
     "execution_count": 17,
     "metadata": {},
     "output_type": "execute_result"
    }
   ],
   "source": [
    "tuple(zip(range(1,5),\"a\"*4,\"b\"*4,\"c\"*4,\"d\"*4,\"e\"*4))"
   ]
  },
  {
   "cell_type": "code",
   "execution_count": 18,
   "metadata": {},
   "outputs": [
    {
     "data": {
      "text/plain": [
       "{0: 0, 1: 2, 2: 4, 3: 6, 4: 8}"
      ]
     },
     "execution_count": 18,
     "metadata": {},
     "output_type": "execute_result"
    }
   ],
   "source": [
    "#I did not understand this\n",
    "{k: v for k,v in zip(range(5),range(0,10,2))}"
   ]
  },
  {
   "cell_type": "code",
   "execution_count": 20,
   "metadata": {},
   "outputs": [
    {
     "data": {
      "text/plain": [
       "{'model1': 0.858, 'model2': 0.873, 'model3': 0.868}"
      ]
     },
     "execution_count": 20,
     "metadata": {},
     "output_type": "execute_result"
    }
   ],
   "source": [
    "score = [.858, .873, .868]\n",
    "{'model' +str(j+1): score[j] for j in range(3)}"
   ]
  },
  {
   "cell_type": "code",
   "execution_count": 25,
   "metadata": {},
   "outputs": [
    {
     "data": {
      "text/plain": [
       "{'USA': 'Washington',\n",
       " 'France': 'Paris!',\n",
       " 'Canada': 'Ottawa',\n",
       " 'Thailand': 'Bangkok'}"
      ]
     },
     "execution_count": 25,
     "metadata": {},
     "output_type": "execute_result"
    }
   ],
   "source": [
    "#practice1 Use a dictionary comprehension to pair up the countries in the first list with their corresponding capitals \n",
    "#in the second list: \n",
    "\n",
    "list1= ['USA', 'France', 'Canada', 'Thailand']\n",
    "list2 = ['Washington', 'Paris!', 'Ottawa', 'Bangkok'] \n",
    "{k: v for k, v in zip (list1, list2)}\n"
   ]
  },
  {
   "cell_type": "code",
   "execution_count": 30,
   "metadata": {},
   "outputs": [
    {
     "data": {
      "text/plain": [
       "{'Pinocchio': 'fictional character',\n",
       " 'Gilgamesh': 'fictional character',\n",
       " 'Kumar Patel': 'fictional character',\n",
       " 'Toby Flenderson': 'fictional character'}"
      ]
     },
     "execution_count": 30,
     "metadata": {},
     "output_type": "execute_result"
    }
   ],
   "source": [
    "#Use a dictionary comprehension to make each of the characters in the following list a key with the value fictional character\n",
    "chars = ['Pinocchio', 'Gilgamesh' ,'Kumar Patel', 'Toby Flenderson' ]\n",
    "{name: \"fictional character\" for name in chars}"
   ]
  },
  {
   "cell_type": "code",
   "execution_count": 37,
   "metadata": {},
   "outputs": [
    {
     "data": {
      "text/plain": [
       "[['m', 'a', 'n'], ['r', 'c', 's']]"
      ]
     },
     "execution_count": 37,
     "metadata": {},
     "output_type": "execute_result"
    }
   ],
   "source": [
    "#NESTING\n",
    "#Just as we can put lists and dictionaries inside of other lists and dictionaries, \n",
    "#we can also put comprehensions inside of other comprehensions.\n",
    "lists = [['morning','afternoon', 'night'], ['read', 'code', 'sleep']]\n",
    "[[item[0] for item in small_list] for small_list in lists] \n"
   ]
  },
  {
   "cell_type": "code",
   "execution_count": null,
   "metadata": {},
   "outputs": [],
   "source": [
    "#Nested Structures \n",
    "#It will be well worth your while to practice accessing data in complex structures. Consider the following:\n",
    "\n",
    "customers = {\n",
    "    'bill': purchases': ('movies': ['Terminator', 'Elf'], dolph: porchasel: mv12): 'Te Happened One Night 1, books': ['The Far Side Gallery']}, 'id': 2}, •pat'：“'purchases'：｛'movies'：11， 'books': ['Seinfeld and Philosophy', 'I Am a Bunny' 1}, •id': 3} Q: How would we access 'I Am a Bunny'?\n",
    "It will be well worth your while to practice accessing data in complex structures. Consider the following: customers = 'bill': {'purchases': ('movies': ('Terminator', 'Elf'], books': lll, \"id': 1}, 'dolph': {'purchases: ('movies': ['It Happened One Night'], \"books': l'The Far Side Gallery'l}, 'id': 2}, 'pat': ('purchases': {'movies': 11, \"books': ['Seinfeld and Philosophy', 'I Am a Bunny' 1}, id': 3} Q: How would we access 'I Am a Bunny'? A: The outermost \"layer\" has a name: 'customers', and that object is a dictionary: customers The key we are interested in is 'pat', since that's where 'I Am a Bunny' is located: customers l 'pat 1 The value corresponding to the key 'pat' is also a dictionary, and in this lower-down\" dictionary, the key we are interested in is 'purchases': customers ['pat 'Il 'purchases'] The value corresponding to the key 'purchases' is yet another dictionary, and here the key of interest is books : customers| 'pat ']l 'purchases' ][ 'books ' ] The value corresponding to the key 'books' is a list, and 'I Am a Bunny' is the second element in that\n",
    "customers ( 'pat']l 'purchases' ]l 'books ' 1 [1]\n"
   ]
  },
  {
   "cell_type": "code",
   "execution_count": null,
   "metadata": {},
   "outputs": [],
   "source": []
  }
 ],
 "metadata": {
  "kernelspec": {
   "display_name": "Python (learn-env)",
   "language": "python",
   "name": "learn-env"
  },
  "language_info": {
   "codemirror_mode": {
    "name": "ipython",
    "version": 3
   },
   "file_extension": ".py",
   "mimetype": "text/x-python",
   "name": "python",
   "nbconvert_exporter": "python",
   "pygments_lexer": "ipython3",
   "version": "3.8.5"
  }
 },
 "nbformat": 4,
 "nbformat_minor": 4
}
